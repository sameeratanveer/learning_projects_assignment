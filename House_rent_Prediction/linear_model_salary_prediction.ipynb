{
 "cells": [
  {
   "cell_type": "code",
   "execution_count": 173,
   "id": "62bba4f4-5873-415a-aa6b-f918707417b3",
   "metadata": {},
   "outputs": [],
   "source": [
    "# import dependencies :\n",
    "import pandas as pd \n",
    "import math"
   ]
  },
  {
   "cell_type": "code",
   "execution_count": 175,
   "id": "51b310d3-8805-436d-a867-01bff2ae845c",
   "metadata": {},
   "outputs": [],
   "source": [
    "from joblib import load"
   ]
  },
  {
   "cell_type": "code",
   "execution_count": 177,
   "id": "c5954dd8-faa9-4bc5-a87b-d2c42ef3d01d",
   "metadata": {},
   "outputs": [],
   "source": [
    "# Loading the saved DataFrame for model training \n",
    "df = load('df_fe.joblib')"
   ]
  },
  {
   "cell_type": "code",
   "execution_count": 179,
   "id": "60d8ad32-2d23-4950-bda1-2b34f6c1aefb",
   "metadata": {},
   "outputs": [
    {
     "data": {
      "text/html": [
       "<div>\n",
       "<style scoped>\n",
       "    .dataframe tbody tr th:only-of-type {\n",
       "        vertical-align: middle;\n",
       "    }\n",
       "\n",
       "    .dataframe tbody tr th {\n",
       "        vertical-align: top;\n",
       "    }\n",
       "\n",
       "    .dataframe thead th {\n",
       "        text-align: right;\n",
       "    }\n",
       "</style>\n",
       "<table border=\"1\" class=\"dataframe\">\n",
       "  <thead>\n",
       "    <tr style=\"text-align: right;\">\n",
       "      <th></th>\n",
       "      <th>age</th>\n",
       "      <th>years_of_experience</th>\n",
       "      <th>salary</th>\n",
       "      <th>gender_male</th>\n",
       "      <th>education_level</th>\n",
       "      <th>job_title</th>\n",
       "    </tr>\n",
       "  </thead>\n",
       "  <tbody>\n",
       "    <tr>\n",
       "      <th>0</th>\n",
       "      <td>32</td>\n",
       "      <td>5</td>\n",
       "      <td>90000</td>\n",
       "      <td>1</td>\n",
       "      <td>2</td>\n",
       "      <td>159</td>\n",
       "    </tr>\n",
       "    <tr>\n",
       "      <th>1</th>\n",
       "      <td>28</td>\n",
       "      <td>3</td>\n",
       "      <td>65000</td>\n",
       "      <td>0</td>\n",
       "      <td>1</td>\n",
       "      <td>17</td>\n",
       "    </tr>\n",
       "    <tr>\n",
       "      <th>2</th>\n",
       "      <td>45</td>\n",
       "      <td>15</td>\n",
       "      <td>150000</td>\n",
       "      <td>1</td>\n",
       "      <td>0</td>\n",
       "      <td>130</td>\n",
       "    </tr>\n",
       "    <tr>\n",
       "      <th>3</th>\n",
       "      <td>36</td>\n",
       "      <td>7</td>\n",
       "      <td>60000</td>\n",
       "      <td>0</td>\n",
       "      <td>2</td>\n",
       "      <td>101</td>\n",
       "    </tr>\n",
       "    <tr>\n",
       "      <th>4</th>\n",
       "      <td>52</td>\n",
       "      <td>20</td>\n",
       "      <td>200000</td>\n",
       "      <td>1</td>\n",
       "      <td>1</td>\n",
       "      <td>22</td>\n",
       "    </tr>\n",
       "    <tr>\n",
       "      <th>...</th>\n",
       "      <td>...</td>\n",
       "      <td>...</td>\n",
       "      <td>...</td>\n",
       "      <td>...</td>\n",
       "      <td>...</td>\n",
       "      <td>...</td>\n",
       "    </tr>\n",
       "    <tr>\n",
       "      <th>348</th>\n",
       "      <td>28</td>\n",
       "      <td>1</td>\n",
       "      <td>35000</td>\n",
       "      <td>0</td>\n",
       "      <td>2</td>\n",
       "      <td>68</td>\n",
       "    </tr>\n",
       "    <tr>\n",
       "      <th>349</th>\n",
       "      <td>36</td>\n",
       "      <td>8</td>\n",
       "      <td>110000</td>\n",
       "      <td>1</td>\n",
       "      <td>2</td>\n",
       "      <td>111</td>\n",
       "    </tr>\n",
       "    <tr>\n",
       "      <th>350</th>\n",
       "      <td>44</td>\n",
       "      <td>16</td>\n",
       "      <td>160000</td>\n",
       "      <td>0</td>\n",
       "      <td>0</td>\n",
       "      <td>115</td>\n",
       "    </tr>\n",
       "    <tr>\n",
       "      <th>351</th>\n",
       "      <td>31</td>\n",
       "      <td>3</td>\n",
       "      <td>55000</td>\n",
       "      <td>1</td>\n",
       "      <td>2</td>\n",
       "      <td>63</td>\n",
       "    </tr>\n",
       "    <tr>\n",
       "      <th>371</th>\n",
       "      <td>43</td>\n",
       "      <td>19</td>\n",
       "      <td>170000</td>\n",
       "      <td>1</td>\n",
       "      <td>1</td>\n",
       "      <td>30</td>\n",
       "    </tr>\n",
       "  </tbody>\n",
       "</table>\n",
       "<p>324 rows × 6 columns</p>\n",
       "</div>"
      ],
      "text/plain": [
       "     age  years_of_experience  salary  gender_male  education_level  job_title\n",
       "0     32                    5   90000            1                2        159\n",
       "1     28                    3   65000            0                1         17\n",
       "2     45                   15  150000            1                0        130\n",
       "3     36                    7   60000            0                2        101\n",
       "4     52                   20  200000            1                1         22\n",
       "..   ...                  ...     ...          ...              ...        ...\n",
       "348   28                    1   35000            0                2         68\n",
       "349   36                    8  110000            1                2        111\n",
       "350   44                   16  160000            0                0        115\n",
       "351   31                    3   55000            1                2         63\n",
       "371   43                   19  170000            1                1         30\n",
       "\n",
       "[324 rows x 6 columns]"
      ]
     },
     "execution_count": 179,
     "metadata": {},
     "output_type": "execute_result"
    }
   ],
   "source": [
    "df"
   ]
  },
  {
   "cell_type": "markdown",
   "id": "bbd8eac0-75ca-4637-90f0-1f0739c46c6a",
   "metadata": {},
   "source": [
    "# Preparing for model training "
   ]
  },
  {
   "cell_type": "code",
   "execution_count": 255,
   "id": "a40e780b-de3f-4731-9cc8-0177131337d8",
   "metadata": {},
   "outputs": [],
   "source": [
    "from sklearn.model_selection import train_test_split\n",
    "X = df.drop(columns=['salary','job_title'], axis=1)\n",
    "y = df['salary']\n",
    "\n",
    "x_train, x_test, y_train, y_test = train_test_split(X,y, test_size=0.2, random_state=42)"
   ]
  },
  {
   "cell_type": "code",
   "execution_count": 257,
   "id": "1409ffc6-1bb5-444e-adbb-b72994afc783",
   "metadata": {},
   "outputs": [
    {
     "data": {
      "text/html": [
       "<div>\n",
       "<style scoped>\n",
       "    .dataframe tbody tr th:only-of-type {\n",
       "        vertical-align: middle;\n",
       "    }\n",
       "\n",
       "    .dataframe tbody tr th {\n",
       "        vertical-align: top;\n",
       "    }\n",
       "\n",
       "    .dataframe thead th {\n",
       "        text-align: right;\n",
       "    }\n",
       "</style>\n",
       "<table border=\"1\" class=\"dataframe\">\n",
       "  <thead>\n",
       "    <tr style=\"text-align: right;\">\n",
       "      <th></th>\n",
       "      <th>age</th>\n",
       "      <th>years_of_experience</th>\n",
       "      <th>gender_male</th>\n",
       "      <th>education_level</th>\n",
       "    </tr>\n",
       "  </thead>\n",
       "  <tbody>\n",
       "    <tr>\n",
       "      <th>0</th>\n",
       "      <td>32</td>\n",
       "      <td>5</td>\n",
       "      <td>1</td>\n",
       "      <td>2</td>\n",
       "    </tr>\n",
       "    <tr>\n",
       "      <th>1</th>\n",
       "      <td>28</td>\n",
       "      <td>3</td>\n",
       "      <td>0</td>\n",
       "      <td>1</td>\n",
       "    </tr>\n",
       "    <tr>\n",
       "      <th>2</th>\n",
       "      <td>45</td>\n",
       "      <td>15</td>\n",
       "      <td>1</td>\n",
       "      <td>0</td>\n",
       "    </tr>\n",
       "    <tr>\n",
       "      <th>3</th>\n",
       "      <td>36</td>\n",
       "      <td>7</td>\n",
       "      <td>0</td>\n",
       "      <td>2</td>\n",
       "    </tr>\n",
       "    <tr>\n",
       "      <th>4</th>\n",
       "      <td>52</td>\n",
       "      <td>20</td>\n",
       "      <td>1</td>\n",
       "      <td>1</td>\n",
       "    </tr>\n",
       "    <tr>\n",
       "      <th>...</th>\n",
       "      <td>...</td>\n",
       "      <td>...</td>\n",
       "      <td>...</td>\n",
       "      <td>...</td>\n",
       "    </tr>\n",
       "    <tr>\n",
       "      <th>348</th>\n",
       "      <td>28</td>\n",
       "      <td>1</td>\n",
       "      <td>0</td>\n",
       "      <td>2</td>\n",
       "    </tr>\n",
       "    <tr>\n",
       "      <th>349</th>\n",
       "      <td>36</td>\n",
       "      <td>8</td>\n",
       "      <td>1</td>\n",
       "      <td>2</td>\n",
       "    </tr>\n",
       "    <tr>\n",
       "      <th>350</th>\n",
       "      <td>44</td>\n",
       "      <td>16</td>\n",
       "      <td>0</td>\n",
       "      <td>0</td>\n",
       "    </tr>\n",
       "    <tr>\n",
       "      <th>351</th>\n",
       "      <td>31</td>\n",
       "      <td>3</td>\n",
       "      <td>1</td>\n",
       "      <td>2</td>\n",
       "    </tr>\n",
       "    <tr>\n",
       "      <th>371</th>\n",
       "      <td>43</td>\n",
       "      <td>19</td>\n",
       "      <td>1</td>\n",
       "      <td>1</td>\n",
       "    </tr>\n",
       "  </tbody>\n",
       "</table>\n",
       "<p>324 rows × 4 columns</p>\n",
       "</div>"
      ],
      "text/plain": [
       "     age  years_of_experience  gender_male  education_level\n",
       "0     32                    5            1                2\n",
       "1     28                    3            0                1\n",
       "2     45                   15            1                0\n",
       "3     36                    7            0                2\n",
       "4     52                   20            1                1\n",
       "..   ...                  ...          ...              ...\n",
       "348   28                    1            0                2\n",
       "349   36                    8            1                2\n",
       "350   44                   16            0                0\n",
       "351   31                    3            1                2\n",
       "371   43                   19            1                1\n",
       "\n",
       "[324 rows x 4 columns]"
      ]
     },
     "execution_count": 257,
     "metadata": {},
     "output_type": "execute_result"
    }
   ],
   "source": [
    "X"
   ]
  },
  {
   "cell_type": "code",
   "execution_count": 259,
   "id": "a807f306-6e9e-4ec2-8334-bb26eab0c2d6",
   "metadata": {
    "scrolled": true
   },
   "outputs": [
    {
     "data": {
      "text/plain": [
       "0       90000\n",
       "1       65000\n",
       "2      150000\n",
       "3       60000\n",
       "4      200000\n",
       "        ...  \n",
       "348     35000\n",
       "349    110000\n",
       "350    160000\n",
       "351     55000\n",
       "371    170000\n",
       "Name: salary, Length: 324, dtype: int32"
      ]
     },
     "execution_count": 259,
     "metadata": {},
     "output_type": "execute_result"
    }
   ],
   "source": [
    "y"
   ]
  },
  {
   "cell_type": "code",
   "execution_count": 261,
   "id": "2ad1567d-32bf-4ad3-974e-31cb944e60c1",
   "metadata": {},
   "outputs": [
    {
     "data": {
      "text/html": [
       "<div>\n",
       "<style scoped>\n",
       "    .dataframe tbody tr th:only-of-type {\n",
       "        vertical-align: middle;\n",
       "    }\n",
       "\n",
       "    .dataframe tbody tr th {\n",
       "        vertical-align: top;\n",
       "    }\n",
       "\n",
       "    .dataframe thead th {\n",
       "        text-align: right;\n",
       "    }\n",
       "</style>\n",
       "<table border=\"1\" class=\"dataframe\">\n",
       "  <thead>\n",
       "    <tr style=\"text-align: right;\">\n",
       "      <th></th>\n",
       "      <th>age</th>\n",
       "      <th>years_of_experience</th>\n",
       "      <th>gender_male</th>\n",
       "      <th>education_level</th>\n",
       "    </tr>\n",
       "  </thead>\n",
       "  <tbody>\n",
       "    <tr>\n",
       "      <th>73</th>\n",
       "      <td>28</td>\n",
       "      <td>2</td>\n",
       "      <td>1</td>\n",
       "      <td>2</td>\n",
       "    </tr>\n",
       "    <tr>\n",
       "      <th>182</th>\n",
       "      <td>44</td>\n",
       "      <td>15</td>\n",
       "      <td>0</td>\n",
       "      <td>0</td>\n",
       "    </tr>\n",
       "    <tr>\n",
       "      <th>17</th>\n",
       "      <td>39</td>\n",
       "      <td>12</td>\n",
       "      <td>1</td>\n",
       "      <td>0</td>\n",
       "    </tr>\n",
       "    <tr>\n",
       "      <th>24</th>\n",
       "      <td>41</td>\n",
       "      <td>13</td>\n",
       "      <td>1</td>\n",
       "      <td>1</td>\n",
       "    </tr>\n",
       "    <tr>\n",
       "      <th>146</th>\n",
       "      <td>42</td>\n",
       "      <td>16</td>\n",
       "      <td>0</td>\n",
       "      <td>0</td>\n",
       "    </tr>\n",
       "    <tr>\n",
       "      <th>...</th>\n",
       "      <td>...</td>\n",
       "      <td>...</td>\n",
       "      <td>...</td>\n",
       "      <td>...</td>\n",
       "    </tr>\n",
       "    <tr>\n",
       "      <th>189</th>\n",
       "      <td>28</td>\n",
       "      <td>1</td>\n",
       "      <td>1</td>\n",
       "      <td>2</td>\n",
       "    </tr>\n",
       "    <tr>\n",
       "      <th>71</th>\n",
       "      <td>39</td>\n",
       "      <td>11</td>\n",
       "      <td>0</td>\n",
       "      <td>2</td>\n",
       "    </tr>\n",
       "    <tr>\n",
       "      <th>106</th>\n",
       "      <td>30</td>\n",
       "      <td>3</td>\n",
       "      <td>0</td>\n",
       "      <td>2</td>\n",
       "    </tr>\n",
       "    <tr>\n",
       "      <th>284</th>\n",
       "      <td>35</td>\n",
       "      <td>9</td>\n",
       "      <td>1</td>\n",
       "      <td>2</td>\n",
       "    </tr>\n",
       "    <tr>\n",
       "      <th>102</th>\n",
       "      <td>49</td>\n",
       "      <td>19</td>\n",
       "      <td>0</td>\n",
       "      <td>1</td>\n",
       "    </tr>\n",
       "  </tbody>\n",
       "</table>\n",
       "<p>259 rows × 4 columns</p>\n",
       "</div>"
      ],
      "text/plain": [
       "     age  years_of_experience  gender_male  education_level\n",
       "73    28                    2            1                2\n",
       "182   44                   15            0                0\n",
       "17    39                   12            1                0\n",
       "24    41                   13            1                1\n",
       "146   42                   16            0                0\n",
       "..   ...                  ...          ...              ...\n",
       "189   28                    1            1                2\n",
       "71    39                   11            0                2\n",
       "106   30                    3            0                2\n",
       "284   35                    9            1                2\n",
       "102   49                   19            0                1\n",
       "\n",
       "[259 rows x 4 columns]"
      ]
     },
     "execution_count": 261,
     "metadata": {},
     "output_type": "execute_result"
    }
   ],
   "source": [
    "x_train"
   ]
  },
  {
   "cell_type": "markdown",
   "id": "f415c878-0692-44b9-b46b-ad4a2479ecfa",
   "metadata": {},
   "source": [
    "# Linear Regression Model : "
   ]
  },
  {
   "cell_type": "code",
   "execution_count": 291,
   "id": "0d171a67-b5ef-4d48-86e8-1dc7e7501b1c",
   "metadata": {},
   "outputs": [],
   "source": [
    "from sklearn.linear_model import LinearRegression\n",
    "\n",
    "model = LinearRegression()\n",
    "model.fit(x_train,y_train)\n",
    "predictions = model.predict(x_test)"
   ]
  },
  {
   "cell_type": "code",
   "execution_count": 293,
   "id": "fa66ec02-c6ef-446c-9bc3-1976c2576306",
   "metadata": {},
   "outputs": [],
   "source": [
    "# Model Accuracy : \n",
    "from sklearn.metrics import mean_absolute_error, mean_squared_error, r2_score\n",
    "mae = mean_absolute_error(y_test, predictions)\n",
    "mse = mean_squared_error(y_test, predictions)\n",
    "r2 = r2_score(y_test, predictions)"
   ]
  },
  {
   "cell_type": "code",
   "execution_count": 295,
   "id": "49c3876b-ee31-4ae5-a0db-7aa74c467da5",
   "metadata": {},
   "outputs": [
    {
     "name": "stdout",
     "output_type": "stream",
     "text": [
      "10484.142208579335\n",
      "204957036.7887117\n",
      "0.8915448996559135\n"
     ]
    }
   ],
   "source": [
    "print(mae)\n",
    "print(mse)\n",
    "print(r2)"
   ]
  },
  {
   "cell_type": "code",
   "execution_count": 165,
   "id": "96c63600-b7cb-47fe-9444-0f6b55637bd7",
   "metadata": {},
   "outputs": [],
   "source": [
    "# It is almost same : Therefore, I will remove job_title and use X without job_title column"
   ]
  },
  {
   "cell_type": "code",
   "execution_count": 167,
   "id": "f20faa96-6101-4c77-bb6f-59ca63cf41a5",
   "metadata": {},
   "outputs": [],
   "source": [
    "## Prediction on the new data : "
   ]
  },
  {
   "cell_type": "code",
   "execution_count": 169,
   "id": "8369366a-fe48-4e3a-baa9-a2406c0fc81f",
   "metadata": {},
   "outputs": [],
   "source": [
    "# Inputs to the model : age\tyears_of_experience\tgender_male\teducation_level "
   ]
  },
  {
   "cell_type": "code",
   "execution_count": 299,
   "id": "a0a5f962-7f0b-4d71-b4cf-21b859817282",
   "metadata": {},
   "outputs": [
    {
     "name": "stdin",
     "output_type": "stream",
     "text": [
      "Enter the Age of the employee :  21\n",
      "Enter the years of experience in integer format :  0\n",
      "Is the employee Male? (Ans: True or False) :  False\n",
      "Education Level of the employee : Enter 0 for Phd, 1 for Master's, 2 for Bachleor's :  2\n"
     ]
    }
   ],
   "source": [
    "age_new_data = int(input(\"Enter the Age of the employee : \"))\n",
    "years_of_experience_new_data = int(input(\"Enter the years of experience in integer format : \"))\n",
    "gender_male_new_data = bool(input(\"Is the employee Male? (Ans: True or False) : \"))\n",
    "gender_male_new_data = int(gender_male_new_data)\n",
    "educational_level_new_data = int(input(\"Education Level of the employee : Enter 0 for Phd, 1 for Master's, 2 for Bachleor's : \"))"
   ]
  },
  {
   "cell_type": "code",
   "execution_count": 301,
   "id": "1d3fdfb0-a905-48e5-8b44-9c78db817d8f",
   "metadata": {},
   "outputs": [],
   "source": [
    "# COnvert the input into array : \n",
    "new_data = [[age_new_data, years_of_experience_new_data, gender_male_new_data, educational_level_new_data]]"
   ]
  },
  {
   "cell_type": "code",
   "execution_count": 303,
   "id": "44f5eb10-5653-4587-ac0b-95bf27180824",
   "metadata": {
    "scrolled": true
   },
   "outputs": [
    {
     "name": "stderr",
     "output_type": "stream",
     "text": [
      "C:\\Users\\SAMSUNG\\anaconda3\\Lib\\site-packages\\sklearn\\base.py:439: UserWarning: X does not have valid feature names, but LinearRegression was fitted with feature names\n",
      "  warnings.warn(\n"
     ]
    }
   ],
   "source": [
    "prediction_new = model.predict(new_data)"
   ]
  },
  {
   "cell_type": "code",
   "execution_count": 305,
   "id": "ab8d060a-61d0-4261-b6ca-7df03c908149",
   "metadata": {},
   "outputs": [],
   "source": [
    "expected_salary = math.ceil(prediction_new[0])"
   ]
  },
  {
   "cell_type": "code",
   "execution_count": 307,
   "id": "89ac03ec-3f07-4ad6-9b41-b45146efcdd9",
   "metadata": {},
   "outputs": [
    {
     "name": "stdout",
     "output_type": "stream",
     "text": [
      "The expected Salary based of your data is : ₹/$19901\n"
     ]
    }
   ],
   "source": [
    "print(f\"The expected Salary based of your data is : ₹/${expected_salary}\")"
   ]
  },
  {
   "cell_type": "code",
   "execution_count": null,
   "id": "e30df4f3-3271-44c5-bc58-2df0e35e148d",
   "metadata": {},
   "outputs": [],
   "source": []
  }
 ],
 "metadata": {
  "kernelspec": {
   "display_name": "Python 3 (ipykernel)",
   "language": "python",
   "name": "python3"
  },
  "language_info": {
   "codemirror_mode": {
    "name": "ipython",
    "version": 3
   },
   "file_extension": ".py",
   "mimetype": "text/x-python",
   "name": "python",
   "nbconvert_exporter": "python",
   "pygments_lexer": "ipython3",
   "version": "3.11.7"
  }
 },
 "nbformat": 4,
 "nbformat_minor": 5
}
